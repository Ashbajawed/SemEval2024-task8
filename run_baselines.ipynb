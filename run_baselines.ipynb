{
 "cells": [
  {
   "cell_type": "markdown",
   "id": "7b546497",
   "metadata": {},
   "source": [
    "### Load data "
   ]
  },
  {
   "cell_type": "code",
   "execution_count": 1,
   "id": "7e6a159d",
   "metadata": {},
   "outputs": [],
   "source": [
    "import pandas as pd\n",
    "\n",
    "subtaskA_train = pd.read_json(\"./subtaskA/data/subtaskA_train_monolingual.jsonl\", lines=True)\n",
    "subtaskA_dev = pd.read_json(\"./subtaskA/data/subtaskA_dev_monolingual.jsonl\", lines=True)\n",
    "print(len(subtaskA_train), len(subtaskA_dev))"
   ]
  },
  {
   "cell_type": "markdown",
   "id": "72491ce4",
   "metadata": {},
   "source": [
    "### Run in terminal "
   ]
  },
  {
   "cell_type": "code",
   "execution_count": null,
   "id": "4d23248c",
   "metadata": {},
   "outputs": [],
   "source": [
    "python subtaskA/baseline/transformer_baseline.py --train_file_path ./subtaskA/data/subtaskA_train_monolingual.jsonl --test_file_path ./subtaskA/data/subtaskA_dev_monolingual.jsonl --prediction_file_path subtaskA_dev_monolingual_pred.jsonl --subtask A --model roberta-base"
   ]
  }
 ],
 "metadata": {
  "kernelspec": {
   "display_name": "Python [conda env:root] *",
   "language": "python",
   "name": "conda-root-py"
  },
  "language_info": {
   "codemirror_mode": {
    "name": "ipython",
    "version": 3
   },
   "file_extension": ".py",
   "mimetype": "text/x-python",
   "name": "python",
   "nbconvert_exporter": "python",
   "pygments_lexer": "ipython3",
   "version": "3.10.11"
  }
 },
 "nbformat": 4,
 "nbformat_minor": 5
}
