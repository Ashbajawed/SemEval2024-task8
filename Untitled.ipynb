{
 "cells": [
  {
   "cell_type": "code",
   "execution_count": 1,
   "id": "b1f776a5",
   "metadata": {},
   "outputs": [],
   "source": [
    "import pandas as pd\n",
    "\n",
    "data = pd.read_json(\"./subtaskB/data/subtaskB_dev.jsonl\", lines=True)\n",
    "print(len(data))"
   ]
  },
  {
   "cell_type": "code",
   "execution_count": null,
   "id": "c9facc52",
   "metadata": {},
   "outputs": [],
   "source": [
    "Statistics:\n",
    "Subtask A:\n",
    "monolingual: train (119,757), dev (5,000)  \n",
    "multilingual: train (172417), dev (4,000)\n",
    "\n",
    "Subtask B:\n",
    "train: (71,027), dev (3,000)\n",
    "    \n",
    "Subtask C:\n",
    "train: (), dev ()"
   ]
  },
  {
   "cell_type": "code",
   "execution_count": 15,
   "id": "6cab1838",
   "metadata": {},
   "outputs": [
    {
     "name": "stderr",
     "output_type": "stream",
     "text": [
      "C:\\apps\\miniconda3\\lib\\site-packages\\tqdm\\auto.py:21: TqdmWarning: IProgress not found. Please update jupyter and ipywidgets. See https://ipywidgets.readthedocs.io/en/stable/user_install.html\n",
      "  from .autonotebook import tqdm as notebook_tqdm\n",
      "Downloading (…)lve/main/config.json: 100%|████████████████████████████████████████████████████| 481/481 [00:00<?, ?B/s]\n",
      "C:\\apps\\miniconda3\\lib\\site-packages\\huggingface_hub\\file_download.py:133: UserWarning: `huggingface_hub` cache-system uses symlinks by default to efficiently store duplicated files but your machine does not support them in C:\\Users\\Yuxia.wang\\Desktop\\SemEval2024-task8\\models\\roberta-base. Caching files will still work but in a degraded version that might require more space on your disk. This warning can be disabled by setting the `HF_HUB_DISABLE_SYMLINKS_WARNING` environment variable. For more details, see https://huggingface.co/docs/huggingface_hub/how-to-cache#limitations.\n",
      "To support symlinks on Windows, you either need to activate Developer Mode or to run Python as an administrator. In order to see activate developer mode, see this article: https://docs.microsoft.com/en-us/windows/apps/get-started/enable-your-device-for-development\n",
      "  warnings.warn(message)\n",
      "Downloading (…)olve/main/vocab.json: 100%|██████████████████████████████████████████| 899k/899k [00:00<00:00, 1.14MB/s]\n",
      "Downloading (…)olve/main/merges.txt: 100%|███████████████████████████████████████████| 456k/456k [00:00<00:00, 805kB/s]\n",
      "Downloading (…)/main/tokenizer.json: 100%|████████████████████████████████████████| 1.36M/1.36M [00:00<00:00, 6.89MB/s]\n",
      "Downloading pytorch_model.bin: 100%|████████████████████████████████████████████████| 501M/501M [00:32<00:00, 15.4MB/s]\n"
     ]
    }
   ],
   "source": [
    "# Load model directly\n",
    "from transformers import AutoTokenizer, AutoModelForMaskedLM\n",
    "\n",
    "tokenizer = AutoTokenizer.from_pretrained(\"roberta-base\", cache_dir = \"./models/roberta-base\")\n",
    "model = AutoModelForMaskedLM.from_pretrained(\"roberta-base\", cache_dir = \"./models/roberta-base\")"
   ]
  },
  {
   "cell_type": "code",
   "execution_count": null,
   "id": "e318af51",
   "metadata": {},
   "outputs": [],
   "source": [
    "where and how to install evalute?"
   ]
  },
  {
   "cell_type": "code",
   "execution_count": null,
   "id": "4d23248c",
   "metadata": {},
   "outputs": [],
   "source": [
    "python subtaskA/baseline/transformer_baseline.py --train_file_path ./subtaskA/data/subtaskA_train_monolingual.jsonl --test_file_path ./subtaskA/data/subtaskA_dev_monolingual.jsonl --prediction_file_path subtaskA_dev_monolingual_pred.jsonl --subtask A --model roberta-base"
   ]
  }
 ],
 "metadata": {
  "kernelspec": {
   "display_name": "Python [conda env:root] *",
   "language": "python",
   "name": "conda-root-py"
  },
  "language_info": {
   "codemirror_mode": {
    "name": "ipython",
    "version": 3
   },
   "file_extension": ".py",
   "mimetype": "text/x-python",
   "name": "python",
   "nbconvert_exporter": "python",
   "pygments_lexer": "ipython3",
   "version": "3.10.11"
  }
 },
 "nbformat": 4,
 "nbformat_minor": 5
}
